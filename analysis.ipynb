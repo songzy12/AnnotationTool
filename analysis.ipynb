{
 "cells": [
  {
   "cell_type": "code",
   "execution_count": 3,
   "metadata": {},
   "outputs": [],
   "source": [
    "from pymongo import MongoClient\n",
    "\n",
    "client = MongoClient('mongodb://10.0.2.180:27017')\n",
    "xiaomu = client.xiaomu\n",
    "message = xiaomu.message"
   ]
  },
  {
   "cell_type": "code",
   "execution_count": 4,
   "metadata": {},
   "outputs": [],
   "source": [
    "course_id = 'course-v1:TsinghuaX+30240184+sp'"
   ]
  },
  {
   "cell_type": "code",
   "execution_count": 29,
   "metadata": {},
   "outputs": [],
   "source": [
    "message_set = message.find(\n",
    "        {'course_id': course_id, 'flag': {\"$in\": [None, 'more']}, 'question_source': {\"$nin\": ['wobudong', 'active_question']}}).sort('_id', -1)"
   ]
  },
  {
   "cell_type": "code",
   "execution_count": 30,
   "metadata": {},
   "outputs": [
    {
     "name": "stdout",
     "output_type": "stream",
     "text": [
      "q_dict len: 16628, a_list len: 5658\n"
     ]
    }
   ],
   "source": [
    "q_dict, a_list = {}, []\n",
    "for m in message_set:\n",
    "    if 'message' not in m.keys():        \n",
    "        continue\n",
    "\n",
    "    if m['type'] == 'question':\n",
    "        q_dict[m['_id']] = m\n",
    "\n",
    "    if m['type'] == 'answer':\n",
    "        a_list.append(m)\n",
    "\n",
    "print('q_dict len: %d, a_list len: %d' % (len(q_dict), len(a_list)))"
   ]
  },
  {
   "cell_type": "code",
   "execution_count": 31,
   "metadata": {},
   "outputs": [
    {
     "data": {
      "text/plain": [
       "1514"
      ]
     },
     "execution_count": 31,
     "metadata": {},
     "output_type": "execute_result"
    }
   ],
   "source": [
    "labeled_questions = set(\n",
    "    [x['question'] for x in xiaomu.qa_annotation.find()])\n",
    "len(labeled_questions)"
   ]
  },
  {
   "cell_type": "code",
   "execution_count": 32,
   "metadata": {},
   "outputs": [
    {
     "data": {
      "text/plain": [
       "877"
      ]
     },
     "execution_count": 32,
     "metadata": {},
     "output_type": "execute_result"
    }
   ],
   "source": [
    "qid_list, q_text, a_text, times, tags = [], [], [], [], []\n",
    "for v in a_list:\n",
    "    if 'origin_question' not in v:\n",
    "        continue\n",
    "\n",
    "    q_id = v['origin_question']\n",
    "    if q_id not in q_dict:\n",
    "        continue\n",
    "\n",
    "    if q_dict[q_id]['message'] in labeled_questions:\n",
    "        continue\n",
    "\n",
    "    if '[    ]' in q_dict[q_id]['message']:\n",
    "        continue\n",
    "\n",
    "    qid_list.append(q_id)\n",
    "    q_text.append(q_dict[q_id]['message'])\n",
    "    a_text.append(v['message'] if v['message'] else (\n",
    "        v['answers'][0]['message'] if 'answers' in v else ''))\n",
    "\n",
    "    times.append(v['time'])\n",
    "    tags.append(v.get('tag', -1))\n",
    "\n",
    "response = [qid_list, a_text, q_text, times, tags]\n",
    "len(set(q_text))"
   ]
  },
  {
   "cell_type": "code",
   "execution_count": 20,
   "metadata": {},
   "outputs": [
    {
     "data": {
      "text/plain": [
       "16628"
      ]
     },
     "execution_count": 20,
     "metadata": {},
     "output_type": "execute_result"
    }
   ],
   "source": [
    "message_set = xiaomu.message.find(\n",
    "            {'course_id': course_id, 'type': 'question', 'flag': {\"$in\": [None, 'more']}, 'question_source': {\"$nin\": ['wobudong', 'active_question']}})\n",
    "message_set = list(message_set)\n",
    "len(message_set)"
   ]
  },
  {
   "cell_type": "code",
   "execution_count": 25,
   "metadata": {},
   "outputs": [
    {
     "name": "stdout",
     "output_type": "stream",
     "text": [
      "16477\n",
      "5658\n"
     ]
    }
   ],
   "source": [
    "\n",
    "items = xiaomu.message.find({'course_id': course_id, 'type': 'answer', 'flag': {\"$in\": [None, 'more']}})\n",
    "items = list(items)\n",
    "print(len(items))\n",
    "items = list(filter(lambda x: 'message' in x, items))\n",
    "print(len(items))"
   ]
  },
  {
   "cell_type": "code",
   "execution_count": 28,
   "metadata": {},
   "outputs": [
    {
     "data": {
      "text/plain": [
       "877"
      ]
     },
     "execution_count": 28,
     "metadata": {},
     "output_type": "execute_result"
    }
   ],
   "source": [
    "\n",
    "origin_question_ids = set()\n",
    "for item in items:\n",
    "    if 'origin_question' in item:\n",
    "        origin_question_ids.add(item['origin_question'])\n",
    "\n",
    "latest = ''\n",
    "if message_set:\n",
    "    latest = str(message_set[-1]['time'])\n",
    "\n",
    "# cnt_unlabeled = get_unlabeled(course_id)[-1]\n",
    "cnt_unlabeled = len(list(filter(lambda x: x not in labeled_questions and '[    ]' not in x, set(\n",
    "    map(lambda x: x['message'], filter(lambda x: x['_id'] in origin_question_ids, message_set))))))\n",
    "cnt_unlabeled"
   ]
  },
  {
   "cell_type": "code",
   "execution_count": null,
   "metadata": {},
   "outputs": [],
   "source": []
  }
 ],
 "metadata": {
  "kernelspec": {
   "display_name": "Python 3",
   "language": "python",
   "name": "python3"
  },
  "language_info": {
   "codemirror_mode": {
    "name": "ipython",
    "version": 3
   },
   "file_extension": ".py",
   "mimetype": "text/x-python",
   "name": "python",
   "nbconvert_exporter": "python",
   "pygments_lexer": "ipython3",
   "version": "3.6.5"
  }
 },
 "nbformat": 4,
 "nbformat_minor": 2
}
